{
 "cells": [
  {
   "cell_type": "code",
   "execution_count": 1,
   "source": [
    "def gauss_jordan(a, b):\r\n",
    "    n = len(b) \r\n",
    "    for m in range(n): \r\n",
    "\t# partial pivot step\r\n",
    "        if abs(a[m][m]) < 1.0e-12: \r\n",
    "            for k in range(m+1, n): \r\n",
    "                if abs(a[k][m]) > abs(a[m][m]):\r\n",
    "                    for j in range(m, n): \r\n",
    "                        a[m][j], a[k][j] = a[k][j], a[m][j] \r\n",
    "                    b[m], b[k] = b[k], b[m] \r\n",
    "                    break\r\n",
    "\t\r\n",
    "        pivot = a[m][m] # marking the pivot\r\n",
    "        if pivot == 0:\r\n",
    "            print(\"There are infinitely many solutions to the system.\")\r\n",
    "            return\r\n",
    "        for j in range(m, n): \r\n",
    "            a[m][j] /= pivot\r\n",
    "        b[m] /= pivot\r\n",
    "\t\r\n",
    "        for k in range(n):      # backward elimination\r\n",
    "            if k == m or a[k][m] == 0: continue\r\n",
    "            ratio = a[k][m]\r\n",
    "            for j in range(m, n): \r\n",
    "                a[k][j] -= ratio * a[m][j]\r\n",
    "            b[k] -= ratio * b[m]\r\n",
    "    print(b)\r\n",
    "P = [[1,1,1,1],\r\n",
    "     [2,3,0,-1],\r\n",
    "     [-3,4,1,2],\r\n",
    "     [1,2,-1,1]]\r\n",
    "Q = [13,-1,10,1]\r\n",
    "print('The solutions are:')\r\n",
    "gauss_jordan(P,Q)\r\n",
    "R = [[0,2,-3],\r\n",
    "     [1,0,1],\r\n",
    "     [1,-1,0]]\r\n",
    "S = [-1,0,3]\r\n",
    "print('The solutions are:')\r\n",
    "\r\n",
    "gauss_jordan(R,S)\r\n"
   ],
   "outputs": [
    {
     "output_type": "stream",
     "name": "stdout",
     "text": [
      "The solutions are:\n",
      "[2.000000000000001, -1.3322676295501878e-15, 5.999999999999999, 5.0]\n",
      "The solutions are:\n",
      "[1.0, -2.0, -1.0]\n"
     ]
    }
   ],
   "metadata": {}
  },
  {
   "cell_type": "code",
   "execution_count": 3,
   "source": [
    "def matx_inv(M):\r\n",
    "    n = len(M) # dimension of the matrix\r\n",
    "    P = [[0.0 for i in range(n)] for j in range(n)] # null matrix\r\n",
    "    for i in range(3): # for a 3x3 matrix, the identity\r\n",
    "        for j in range(3):\r\n",
    "            P[j][j] = 1.0\r\n",
    "    for i in range(n):\r\n",
    "        M[i].extend(P[i])\r\n",
    "    # Finding inverse through gaussian elimination\r\n",
    "    for k in range(n):\r\n",
    "        if abs(M[k][k]) < 1.0e-5:\r\n",
    "            for i in range(k+1, n):\r\n",
    "                if abs(M[i][k]) > abs(M[k][k]):\r\n",
    "                    for j in range(k, 2*n):\r\n",
    "                        M[k][j],M[i][j] = M[i][j], M[k][j] # placing the pivot\r\n",
    "                    break\r\n",
    "        pivot = M[k][k] # marking pivot\r\n",
    "        if pivot == 0: # check step\r\n",
    "            print(\"This matrix is not invertible.\")\r\n",
    "            return\r\n",
    "        else:\r\n",
    "            for j in range(k, 2*n): # running through columns of pivot\r\n",
    "                M[k][j] /= pivot\r\n",
    "            for i in range(n): # rows of subtraction\r\n",
    "                if i == k or M[i][k] == 0: continue\r\n",
    "                factor = M[i][k]\r\n",
    "                for j in range(k, 2*n): # columns of subtraction\r\n",
    "                    M[i][j] -= factor * M[k][j]\r\n",
    "    for i in range(n): # displaying the inverse matrix\r\n",
    "        for j in range(n, len(M[0])):\r\n",
    "            print(\"{:.2f}\".format(M[i][j]), end = \" \") # rounding up to decimal place 2 i.e. 0.01\r\n",
    "        print()\r\n",
    "\r\n",
    "A = [[0,2,1],[4,0,1],[-1,2,0]]\r\n",
    "matx_inv(A)"
   ],
   "outputs": [
    {
     "output_type": "stream",
     "name": "stdout",
     "text": [
      "-0.33 0.33 0.33 \n",
      "-0.17 0.17 0.67 \n",
      "1.33 -0.33 -1.33 \n"
     ]
    }
   ],
   "metadata": {}
  },
  {
   "cell_type": "code",
   "execution_count": 5,
   "source": [
    "def find_determinant(M):\r\n",
    "    n = len(M) # dimension of the nxn matrix\r\n",
    "    if n != len(M[0]): # check step for square matrix\r\n",
    "        print(\"Please input a square matrix.\")\r\n",
    "    else:\r\n",
    "        tick = 0 # counter for sign after diagonalization (due to row exchanges)\r\n",
    "\t# partial pivoting step\r\n",
    "        for k in range(n-1):\r\n",
    "            if abs(M[k][k]) < 1.0e-5:\r\n",
    "                for i in range(k+1, n):\r\n",
    "                    if abs(M[i][k]) > abs(M[k][k]):\r\n",
    "                        for j in range(k, n):\r\n",
    "                            M[k][j], M[i][j] = M[i][j], M[k][j] # placing pivot\r\n",
    "                            tick += 1\r\n",
    "    # elimination step\r\n",
    "            for i in range(k+1, n):\r\n",
    "                if M[i][k] == 0: continue\r\n",
    "                factor = M[i][k]/M[k][k]\r\n",
    "                for j in range(k, n):\r\n",
    "                    M[i][j] = M[i][j] - factor * M[k][j]\r\n",
    "    # diagonal multiplication step\r\n",
    "        v = 1\r\n",
    "        for i in range(n):\r\n",
    "            v *= M[i][i] \r\n",
    "        v = v*(-1)**tick\r\n",
    "        print(v)\r\n",
    "\r\n",
    "M = [[1,4,2,3],[0,1,4,4],[-1,0,1,0],[2,0,4,1]]\r\n",
    "find_determinant(M)"
   ],
   "outputs": [
    {
     "output_type": "stream",
     "name": "stdout",
     "text": [
      "65.0\n"
     ]
    }
   ],
   "metadata": {}
  }
 ],
 "metadata": {
  "orig_nbformat": 4,
  "language_info": {
   "name": "python",
   "version": "3.7.4",
   "mimetype": "text/x-python",
   "codemirror_mode": {
    "name": "ipython",
    "version": 3
   },
   "pygments_lexer": "ipython3",
   "nbconvert_exporter": "python",
   "file_extension": ".py"
  },
  "kernelspec": {
   "name": "python3",
   "display_name": "Python 3.7.4 32-bit"
  },
  "interpreter": {
   "hash": "a10fe58052d53de2f628fe753df202ab061ed00aa63930584c0feb86b9c4bc70"
  }
 },
 "nbformat": 4,
 "nbformat_minor": 2
}